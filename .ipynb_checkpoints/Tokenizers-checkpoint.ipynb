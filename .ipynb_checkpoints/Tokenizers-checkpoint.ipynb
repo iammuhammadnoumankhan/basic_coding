{
 "cells": [
  {
   "cell_type": "code",
   "execution_count": null,
   "id": "a62d3dc8-5440-4690-8fc8-59f6a7eb7937",
   "metadata": {},
   "outputs": [],
   "source": []
  }
 ],
 "metadata": {
  "kernelspec": {
   "display_name": "TEST_ENV",
   "language": "python",
   "name": "test_env"
  },
  "language_info": {
   "codemirror_mode": {
    "name": "ipython",
    "version": 3
   },
   "file_extension": ".py",
   "mimetype": "text/x-python",
   "name": "python",
   "nbconvert_exporter": "python",
   "pygments_lexer": "ipython3",
   "version": "3.11.5"
  }
 },
 "nbformat": 4,
 "nbformat_minor": 5
}
